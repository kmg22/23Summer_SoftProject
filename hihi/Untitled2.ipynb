{
 "cells": [
  {
   "cell_type": "code",
   "execution_count": 12,
   "id": "7c9b04a4",
   "metadata": {},
   "outputs": [
    {
     "name": "stdout",
     "output_type": "stream",
     "text": [
      "-0.1285286247730255\n",
      "0.08196589350700378\n"
     ]
    }
   ],
   "source": [
    "import numpy as np\n",
    "\n",
    "data = np.concatenate([\n",
    "    np.load(\"/Users/computer1/anaconda3/mydev/dataset/seq_yes_line_1689567803.npy\"),\n",
    "    np.load(\"/Users/computer1/anaconda3/mydev/dataset/seq_no_line_1689567803.npy\")\n",
    "    \n",
    "], axis=0)\n",
    "a = np.load(\"/Users/computer1/anaconda3/mydev/dataset/seq_yes_line_1689567803.npy\")\n",
    "b = np.load(\"/Users/computer1/anaconda3/mydev/dataset/seq_no_line_1689567803.npy\")\n",
    "          \n",
    "print(a[30][0][100])\n",
    "print(b[30][0][100])"
   ]
  },
  {
   "cell_type": "code",
   "execution_count": null,
   "id": "461d81f4",
   "metadata": {},
   "outputs": [],
   "source": []
  }
 ],
 "metadata": {
  "kernelspec": {
   "display_name": "Python 3 (ipykernel)",
   "language": "python",
   "name": "python3"
  },
  "language_info": {
   "codemirror_mode": {
    "name": "ipython",
    "version": 3
   },
   "file_extension": ".py",
   "mimetype": "text/x-python",
   "name": "python",
   "nbconvert_exporter": "python",
   "pygments_lexer": "ipython3",
   "version": "3.11.3"
  }
 },
 "nbformat": 4,
 "nbformat_minor": 5
}
